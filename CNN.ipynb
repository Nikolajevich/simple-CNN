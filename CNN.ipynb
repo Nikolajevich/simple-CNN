{
  "cells": [
    {
      "cell_type": "code",
      "execution_count": 20,
      "id": "bc56c2ac-bf53-4b7b-8e79-00d4e77adaa2",
      "metadata": {
        "id": "bc56c2ac-bf53-4b7b-8e79-00d4e77adaa2"
      },
      "outputs": [],
      "source": [
        "import numpy as np\n",
        "import tensorflow as tf\n",
        "from tensorflow import keras\n",
        "import matplotlib.pyplot as plt"
      ]
    },
    {
      "cell_type": "code",
      "execution_count": 21,
      "id": "78dbf061-3668-4fd1-b801-b48c12772f22",
      "metadata": {
        "colab": {
          "base_uri": "https://localhost:8080/"
        },
        "id": "78dbf061-3668-4fd1-b801-b48c12772f22",
        "outputId": "51f6033e-ac11-4a65-88fd-18b5c730fa8e"
      },
      "outputs": [
        {
          "output_type": "stream",
          "name": "stdout",
          "text": [
            "TensorFlow GPU available: [PhysicalDevice(name='/physical_device:GPU:0', device_type='GPU')]\n"
          ]
        }
      ],
      "source": [
        "print(\"TensorFlow GPU available:\", tf.config.list_physical_devices('GPU'))"
      ]
    },
    {
      "cell_type": "code",
      "execution_count": 22,
      "id": "ffebd585-5926-4bc4-ab2c-fef641e264c8",
      "metadata": {
        "id": "ffebd585-5926-4bc4-ab2c-fef641e264c8"
      },
      "outputs": [],
      "source": [
        "class CNN:\n",
        "    def __init__(self, data_shape, classes, learning_rate = 0.001, n_epochs = 4, b_size = 30):\n",
        "        self.lr = learning_rate\n",
        "        self.n_epochs = n_epochs\n",
        "        self.batch_size = b_size\n",
        "        self.classes = classes\n",
        "        self.K1 = np.sqrt(2/9)*np.random.randn(3, 3, 1, 16)\n",
        "        self.B1 = np.zeros([16])\n",
        "        self.K2 = np.sqrt(2/144)*np.random.randn(3, 3, 16, 32)\n",
        "        self.B2 = np.zeros([32])\n",
        "        self.w3 = np.sqrt(2/32)*np.random.randn(classes, self.K2.shape[3])\n",
        "        self.b3 = np.zeros([classes])\n",
        "\n",
        "    def _max_pool_backprop(self, dP, indices):\n",
        "        O = np.zeros([dP.shape[0], dP.shape[1]*2, dP.shape[2]*2, dP.shape[3]])\n",
        "        indices_flat = tf.reshape(indices, [-1, 1])\n",
        "        dP_flat = tf.reshape(dP, [-1])\n",
        "        O_flat = tf.tensor_scatter_nd_add(tf.reshape(O, [-1]), indices_flat, dP_flat)\n",
        "        return tf.reshape(O_flat, O.shape)\n",
        "\n",
        "    def _GAP_backprop(self, F, shape):\n",
        "        F_reshaped = tf.reshape(F, [F.shape[0], 1, 1, F.shape[1]])\n",
        "        return tf.broadcast_to(F_reshaped, shape)\n",
        "\n",
        "    def _ReLU(self, Z):\n",
        "        return np.maximum(0, Z)\n",
        "\n",
        "    def _dReLU(self, Z):\n",
        "        return Z > 0\n",
        "\n",
        "    def _softmax(self, Z):\n",
        "        return np.exp(Z)/np.sum(np.exp(Z), axis=1, keepdims=True)\n",
        "\n",
        "    def _make_hot(self, y):\n",
        "        Y = np.zeros([len(y), self.classes])\n",
        "        Y[np.arange(len(y)), y] = 1\n",
        "        return Y\n",
        "\n",
        "    def _forward_prop(self, X):\n",
        "        Z1 = tf.nn.conv2d(X, self.K1, strides=[1, 1, 1, 1], padding='SAME').numpy() + self.B1\n",
        "        A1 = self._ReLU(Z1)\n",
        "        P1, indices1 = tf.nn.max_pool_with_argmax(A1, ksize=2, strides=2, padding='VALID', include_batch_in_index=True)\n",
        "\n",
        "        Z2 = tf.nn.conv2d(P1, self.K2, strides=[1, 1, 1, 1], padding='SAME').numpy() + self.B2\n",
        "        A2 = self._ReLU(Z2)\n",
        "        P2, indices2 = tf.nn.max_pool_with_argmax(A2, ksize=2, strides=2, padding='VALID', include_batch_in_index=True)\n",
        "\n",
        "        F = np.average(P2, axis = (1, 2))\n",
        "        Z3 = np.dot(F, self.w3.T) + self.b3\n",
        "        A3 = self._softmax(Z3)\n",
        "\n",
        "        return Z1, P1, indices1, Z2, indices2, F, A3\n",
        "\n",
        "    def _back_prop(self, Z1, P1, indices1, Z2, indices2, F, A3, X, Y):\n",
        "        n = len(Y)\n",
        "        dZ3 = A3 - Y\n",
        "        dw3 = 1/n * np.dot(dZ3.T, F)\n",
        "        db3 = 1/n * np.sum(dZ3, axis = 0)\n",
        "        dF = np.dot(dZ3, self.w3)\n",
        "\n",
        "        dP2 = self._GAP_backprop(dF, [Z2.shape[0], Z2.shape[1]//2, Z2.shape[2]//2, Z2.shape[3]])\n",
        "\n",
        "        dA2 = self._max_pool_backprop(dP2, indices2)\n",
        "        dZ2 = dA2 * self._dReLU(Z2)\n",
        "        dK2 = tf.compat.v1.nn.conv2d_backprop_filter(P1, self.K2.shape, dZ2, strides=[1, 1, 1, 1], padding='SAME').numpy()\n",
        "        dB2 = np.sum(dZ2, axis = (0, 1, 2))\n",
        "\n",
        "        dP1 = tf.compat.v1.nn.conv2d_backprop_input(P1.shape, self.K2, dZ2, strides=[1, 1, 1, 1], padding='SAME').numpy()\n",
        "        dA1 = self._max_pool_backprop(dP1, indices1)\n",
        "        dZ1 = dA1 * self._dReLU(Z1)\n",
        "        dK1 = tf.compat.v1.nn.conv2d_backprop_filter(X, self.K1.shape, dZ1, strides=[1, 1, 1, 1], padding='SAME').numpy()\n",
        "        dB1 = np.sum(dZ1, axis = (0, 1, 2))\n",
        "\n",
        "        return dK1, dB1, dK2, dB2, dw3, db3\n",
        "\n",
        "    def _update_params(self, dK1, dB1, dK2, dB2, dw3, db3):\n",
        "        self.K1 -= self.lr*dK1\n",
        "        self.B1 -= self.lr*dB1\n",
        "        self.K2 -= self.lr*dK2\n",
        "        self.B2 -= self.lr*dB2\n",
        "        self.w3 -= self.lr*dw3\n",
        "        self.b3 -= self.lr*db3\n",
        "\n",
        "    def fit(self, X, y):\n",
        "        Y = self._make_hot(y)\n",
        "\n",
        "        n_samples = X.shape[0]\n",
        "        n_batches = n_samples // self.batch_size\n",
        "\n",
        "        for epoch in range(self.n_epochs):\n",
        "            shuffled_indexes = np.random.permutation(n_samples)\n",
        "            X = X[shuffled_indexes]\n",
        "            Y = Y[shuffled_indexes]\n",
        "\n",
        "            for batch in range(n_batches):\n",
        "                start = batch * self.batch_size\n",
        "                end = start + self.batch_size\n",
        "                X_batch = X[start:end]\n",
        "                Y_batch = Y[start:end]\n",
        "\n",
        "                Z1, P1, indices1, Z2, indices2, F, A3 = self._forward_prop(X_batch)\n",
        "                dK1, dB1, dK2, dB2, dw3, db3 = self._back_prop(Z1, P1, indices1, Z2, indices2, F, A3, X_batch, Y_batch)\n",
        "                self._update_params(dK1, dB1, dK2, dB2, dw3, db3)\n",
        "\n",
        "    def predict(self, X):\n",
        "        _, _, _, _, _, _, A3 = self._forward_prop(X)\n",
        "        return np.argmax(A3, axis=1)\n",
        "\n",
        "    def calc_accuracy(self, y_hat, y):\n",
        "        correct_predictions = sum(p == a for p, a in zip(y_hat, y))\n",
        "        total_predictions = len(y_hat)\n",
        "\n",
        "        accuracy = correct_predictions / total_predictions\n",
        "        return accuracy"
      ]
    },
    {
      "cell_type": "code",
      "execution_count": 23,
      "id": "c45876ed-d33d-4322-a351-9f3802a3b3fc",
      "metadata": {
        "colab": {
          "base_uri": "https://localhost:8080/"
        },
        "id": "c45876ed-d33d-4322-a351-9f3802a3b3fc",
        "outputId": "a07cbe35-6c3e-4ae3-98e9-c91982acf8d2"
      },
      "outputs": [
        {
          "output_type": "execute_result",
          "data": {
            "text/plain": [
              "(10000, 28, 28, 1)"
            ]
          },
          "metadata": {},
          "execution_count": 23
        }
      ],
      "source": [
        "keras.datasets.mnist.load_data(path=\"mnist.npz\")\n",
        "(x_train, y_train), (x_test, y_test) = keras.datasets.mnist.load_data()\n",
        "\n",
        "x_train, x_test = x_train/255, x_test/255\n",
        "x_train = x_train.reshape(x_train.shape + (1,))\n",
        "x_test = x_test.reshape(x_test.shape + (1,))\n",
        "\n",
        "x_test.shape"
      ]
    },
    {
      "cell_type": "code",
      "execution_count": 24,
      "id": "89d18950-2162-47e0-beb0-f46ab1e4216e",
      "metadata": {
        "colab": {
          "base_uri": "https://localhost:8080/",
          "height": 435
        },
        "id": "89d18950-2162-47e0-beb0-f46ab1e4216e",
        "outputId": "f72fe6a6-8c8c-4603-f6e3-4521afd059a9"
      },
      "outputs": [
        {
          "output_type": "display_data",
          "data": {
            "text/plain": [
              "<Figure size 640x480 with 2 Axes>"
            ],
            "image/png": "[encoded data removed]"
          },
          "metadata": {}
        }
      ],
      "source": [
        "# Image example\n",
        "\n",
        "plt.figure()\n",
        "plt.imshow(x_test[15])\n",
        "plt.colorbar()\n",
        "plt.grid(False)\n",
        "plt.show()"
      ]
    },
    {
      "cell_type": "code",
      "execution_count": 25,
      "id": "1d0c58c1-78a2-49fe-b0a0-0cf002c3d0f1",
      "metadata": {
        "colab": {
          "base_uri": "https://localhost:8080/"
        },
        "id": "1d0c58c1-78a2-49fe-b0a0-0cf002c3d0f1",
        "outputId": "2a5bea00-fcc0-412b-e7d7-64982d6e9006"
      },
      "outputs": [
        {
          "output_type": "stream",
          "name": "stdout",
          "text": [
            "Predicted labels sample: [7 6 6 5 4 0 7 4 0 1 3 1 3 4 7 2 7 1 2 1 1 7 4 2 3 5 1 2 4 4]\n",
            "   Actual labels sample: [9 6 6 5 4 0 7 4 0 1 3 1 3 4 7 2 7 1 2 1 1 7 4 2 3 5 1 2 4 4]\n",
            "         Model accuracy: 0.95\n"
          ]
        }
      ],
      "source": [
        "LA = CNN(x_train.shape, max(y_train) + 1)\n",
        "LA.fit(x_train, y_train)\n",
        "print(f\"Predicted labels sample: {LA.predict(x_test[20:50])}\")\n",
        "print(f\"   Actual labels sample: {y_test[20:50]}\")\n",
        "print(f\"         Model accuracy: {LA.calc_accuracy(LA.predict(x_test), y_test)}\")"
      ]
    },
    {
      "cell_type": "markdown",
      "source": [],
      "metadata": {
        "id": "jBQQtIbDqyR_"
      },
      "id": "jBQQtIbDqyR_"
    }
  ],
  "metadata": {
    "kernelspec": {
      "display_name": "Python 3",
      "name": "python3"
    },
    "language_info": {
      "codemirror_mode": {
        "name": "ipython",
        "version": 3
      },
      "file_extension": ".py",
      "mimetype": "text/x-python",
      "name": "python",
      "nbconvert_exporter": "python",
      "pygments_lexer": "ipython3",
      "version": "3.10.14"
    },
    "colab": {
      "provenance": [],
      "machine_shape": "hm",
      "gpuType": "L4"
    },
    "accelerator": "GPU"
  },
  "nbformat": 4,
  "nbformat_minor": 5
}